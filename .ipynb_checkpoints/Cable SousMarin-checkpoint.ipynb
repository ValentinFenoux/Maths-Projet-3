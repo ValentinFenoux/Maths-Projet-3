{
 "cells": [
  {
   "cell_type": "markdown",
   "metadata": {},
   "source": [
    "# Projet numérique : Câble sous-marin"
   ]
  },
  {
   "cell_type": "markdown",
   "metadata": {},
   "source": [
    "*Auteurs : Valentin Fenoux et Mathis Boutrouelle*"
   ]
  },
  {
   "cell_type": "markdown",
   "metadata": {},
   "source": [
    "## Questions théoriques"
   ]
  },
  {
   "cell_type": "markdown",
   "metadata": {},
   "source": [
    "1. On se sert de la méthode de Monte-Carlo pour approximer la valeur de l'espérance conditionnelle. On suppose que les simulations sont une suite de variables aléatoires indépendantes $(X_n)_{n \\in \\mathbb{N}^*}$ de même loi et intégrable. Alors : $M_n= \\frac{X_1+...+X_n}{n}$ converge presque sûrement vers $E^*$ d'après la loi des grands nombres."
   ]
  },
  {
   "cell_type": "markdown",
   "metadata": {},
   "source": [
    "2. On pose le vecteur $\\bar{Z} = (Z,Z') = (Z(x_0),...,Z(x_N),Z(x_{j_1}),...,Z(x_{j_n}))$ qui est un vecteur aléatoire gaussien de moyenne $m = (µ,...,µ)$ et de matrice de covariance $\\Sigma$ définie positive. Alors d'après le cours Probabilités IV, la densité conditionnelle de Z sachant les profondeurs aux points d'observation est : \n",
    "$$f_{Z|Z(x_{j_1})=z(x_{j_1}),...,Z(x_{j_n})=z(x_{j_n})}(y) = \\frac{1}{(2\\pi)^{\\frac{N+1}{2}}\\sqrt{\\det (C S_Z)}}\\exp \\left(-\\frac{1}{2}\\left(y - \\psi(y))\\right)^t C S_Z^{-1}\\left(y - \\psi(y))\\right)\\right)$$\n",
    "D'où la loi conditionnelle. Avec $C = \\begin{pmatrix} \\Sigma & C_{Z,Z'} \\\\ C_{Z',Z} & C_{Z'} \\end{pmatrix} \\:$ , $\\: CS_Z = \\Sigma - C_{Z,Z'}C_{Z'}^{-1}C_{Z',Z} \\:$ et $\\: E[Y|Z=z] = \\psi(z) =m_Z + C_{Z,Z'}C_{Z'}^{-1}(z-m_{Z'})$"
   ]
  },
  {
   "cell_type": "markdown",
   "metadata": {},
   "source": [
    "3. Comme $Y$ est gausssien, on a (p.11 poly Proba V) $Z$ qui est gaussien d'espérance $m$ et de matrice de covariance $C$. De plus comme les $Y_i$ sont des variables aléatoires gaussiennes centrées, réduites et indépendantes, $C = RR^t$"
   ]
  },
  {
   "cell_type": "markdown",
   "metadata": {},
   "source": [
    "4. - Soient $(U_k,V_k)_{0\\leqslant k\\leqslant N} \\;$ $2(N+1)$ variables aléatoires uniformes indépendantes dans $]0,1[$, simulées avec le module random de python.\n",
    "   - Alors les $Y_k = \\sqrt{-2ln(U_k)}cos(2\\pi V_k)$ sont des variables aléatoires gaussiennes centrées réduites.\n",
    "   - On a alors $Z = \\psi(z) + RY$, avec R décomposition de Cholesky de $CS_Z$ pouvant être obtenue grâce à un algorithme, et $CS_Z$ grâce à la fonction décroissante C."
   ]
  },
  {
   "cell_type": "markdown",
   "metadata": {},
   "source": [
    "## Implémentation"
   ]
  },
  {
   "cell_type": "markdown",
   "metadata": {},
   "source": [
    "### Préambule"
   ]
  },
  {
   "cell_type": "code",
   "execution_count": 1,
   "metadata": {},
   "outputs": [],
   "source": [
    "# Chargement de dépendance\n",
    "\n",
    "import numpy as np\n",
    "import math\n",
    "import matplotlib.pyplot as plt\n",
    "import random as rd"
   ]
  },
  {
   "cell_type": "code",
   "execution_count": 2,
   "metadata": {},
   "outputs": [],
   "source": [
    "# Discrétisation\n",
    "\n",
    "A = 0\n",
    "B = 500\n",
    "N = 101\n",
    "Delta = (B - A)/(N - 1)\n",
    "discretization_indexes = np.arange(N)\n",
    "discretization = discretization_indexes*Delta"
   ]
  },
  {
   "cell_type": "code",
   "execution_count": 3,
   "metadata": {},
   "outputs": [],
   "source": [
    "# Paramètres du modèle\n",
    "\n",
    "mu = -5\n",
    "a = 50\n",
    "sigma2 = 12"
   ]
  },
  {
   "cell_type": "code",
   "execution_count": 4,
   "metadata": {},
   "outputs": [],
   "source": [
    "# Données\n",
    "\n",
    "observation_indexes = [0, 20, 40, 60, 80, 100]\n",
    "depth = np.array([0, -4, -12.8, -1, -6.5, 0])"
   ]
  },
  {
   "cell_type": "code",
   "execution_count": 5,
   "metadata": {},
   "outputs": [],
   "source": [
    "# Indices des composantes correspondant aux observations et aux composantes non observées\n",
    "\n",
    "unknown_indexes = list(set(discretization_indexes)-set(observation_indexes))"
   ]
  },
  {
   "cell_type": "markdown",
   "metadata": {},
   "source": [
    "### Questions"
   ]
  },
  {
   "cell_type": "markdown",
   "metadata": {},
   "source": [
    "#### 1. Fonction covariance"
   ]
  },
  {
   "cell_type": "code",
   "execution_count": 6,
   "metadata": {},
   "outputs": [],
   "source": [
    "def cov(H) :\n",
    "    n= len(H[:,0])\n",
    "    p= len(H[0])\n",
    "    C = np.zeros([n,p])\n",
    "    for i in range(n) :\n",
    "        for j in range(p):\n",
    "            C[i,j] = sigma2*np.exp(-H[i,j]/a)\n",
    "            \n",
    "    return C"
   ]
  },
  {
   "cell_type": "markdown",
   "metadata": {},
   "source": [
    "#### 2. Matrice de distance"
   ]
  },
  {
   "cell_type": "code",
   "execution_count": 7,
   "metadata": {},
   "outputs": [
    {
     "data": {
      "text/plain": [
       "array([[  0.,   5.,  10., ..., 490., 495., 500.],\n",
       "       [  5.,   0.,   5., ..., 485., 490., 495.],\n",
       "       [ 10.,   5.,   0., ..., 480., 485., 490.],\n",
       "       ...,\n",
       "       [490., 485., 480., ...,   0.,   5.,  10.],\n",
       "       [495., 490., 485., ...,   5.,   0.,   5.],\n",
       "       [500., 495., 490., ...,  10.,   5.,   0.]])"
      ]
     },
     "execution_count": 7,
     "metadata": {},
     "output_type": "execute_result"
    }
   ],
   "source": [
    "# Matrice de distance vide\n",
    "D = np.zeros((N,N))\n",
    "# Ajout des longueurs\n",
    "for i,x in enumerate(discretization) :\n",
    "    for j,y in enumerate(discretization) :\n",
    "        D[i,j] = abs(x - y)\n",
    "D"
   ]
  },
  {
   "cell_type": "markdown",
   "metadata": {},
   "source": [
    "#### 3. Matrice de covariance"
   ]
  },
  {
   "cell_type": "code",
   "execution_count": 8,
   "metadata": {},
   "outputs": [
    {
     "data": {
      "text/plain": [
       "array([[1.20000000e+01, 1.08580490e+01, 9.82476904e+00, ...,\n",
       "        6.65419193e-04, 6.02096185e-04, 5.44799157e-04],\n",
       "       [1.08580490e+01, 1.20000000e+01, 1.08580490e+01, ...,\n",
       "        7.35401941e-04, 6.65419193e-04, 6.02096185e-04],\n",
       "       [9.82476904e+00, 1.08580490e+01, 1.20000000e+01, ...,\n",
       "        8.12744838e-04, 7.35401941e-04, 6.65419193e-04],\n",
       "       ...,\n",
       "       [6.65419193e-04, 7.35401941e-04, 8.12744838e-04, ...,\n",
       "        1.20000000e+01, 1.08580490e+01, 9.82476904e+00],\n",
       "       [6.02096185e-04, 6.65419193e-04, 7.35401941e-04, ...,\n",
       "        1.08580490e+01, 1.20000000e+01, 1.08580490e+01],\n",
       "       [5.44799157e-04, 6.02096185e-04, 6.65419193e-04, ...,\n",
       "        9.82476904e+00, 1.08580490e+01, 1.20000000e+01]])"
      ]
     },
     "execution_count": 8,
     "metadata": {},
     "output_type": "execute_result"
    }
   ],
   "source": [
    "Cov_Z = cov(D)\n",
    "Cov_Z"
   ]
  },
  {
   "cell_type": "markdown",
   "metadata": {},
   "source": [
    "#### 4. 3 Matrices de covariances"
   ]
  },
  {
   "cell_type": "markdown",
   "metadata": {},
   "source": [
    "Entre les observations"
   ]
  },
  {
   "cell_type": "code",
   "execution_count": 9,
   "metadata": {},
   "outputs": [
    {
     "data": {
      "text/plain": [
       "array([[1.20000000e+01, 1.62402340e+00, 2.19787667e-01, 2.97450261e-02,\n",
       "        4.02555153e-03, 5.44799157e-04],\n",
       "       [1.62402340e+00, 1.20000000e+01, 1.62402340e+00, 2.19787667e-01,\n",
       "        2.97450261e-02, 4.02555153e-03],\n",
       "       [2.19787667e-01, 1.62402340e+00, 1.20000000e+01, 1.62402340e+00,\n",
       "        2.19787667e-01, 2.97450261e-02],\n",
       "       [2.97450261e-02, 2.19787667e-01, 1.62402340e+00, 1.20000000e+01,\n",
       "        1.62402340e+00, 2.19787667e-01],\n",
       "       [4.02555153e-03, 2.97450261e-02, 2.19787667e-01, 1.62402340e+00,\n",
       "        1.20000000e+01, 1.62402340e+00],\n",
       "       [5.44799157e-04, 4.02555153e-03, 2.97450261e-02, 2.19787667e-01,\n",
       "        1.62402340e+00, 1.20000000e+01]])"
      ]
     },
     "execution_count": 9,
     "metadata": {},
     "output_type": "execute_result"
    }
   ],
   "source": [
    "observation = np.array(observation_indexes)*Delta\n",
    "# Matrice de distance vide\n",
    "nb_obs = len(observation_indexes)\n",
    "D_obs = np.zeros((nb_obs,nb_obs))\n",
    "# Ajout des longueurs\n",
    "for i,x in enumerate(observation) :\n",
    "    for j,y in enumerate(observation) :\n",
    "        D_obs[i,j] = abs(x - y)\n",
    "\n",
    "#covariance\n",
    "Cov_Zobs = cov(D_obs)\n",
    "Cov_Zobs"
   ]
  },
  {
   "cell_type": "markdown",
   "metadata": {},
   "source": [
    "Entre les observations et les inconnues"
   ]
  },
  {
   "cell_type": "code",
   "execution_count": 10,
   "metadata": {},
   "outputs": [
    {
     "data": {
      "text/plain": [
       "array([[1.08580490e+01, 9.82476904e+00, 8.88981865e+00, 8.04384055e+00,\n",
       "        7.27836792e+00, 6.58573963e+00, 5.95902365e+00, 5.39194757e+00,\n",
       "        4.87883592e+00, 4.41455329e+00, 3.99445300e+00, 3.61433054e+00,\n",
       "        3.27038152e+00, 2.95916357e+00, 2.67756192e+00, 2.42275822e+00,\n",
       "        2.19220229e+00, 1.98358666e+00, 1.79482343e+00, 1.46947714e+00,\n",
       "        1.32963790e+00, 1.20310612e+00, 1.08861544e+00, 9.85019983e-01,\n",
       "        8.91282939e-01, 8.06466153e-01, 7.29720752e-01, 6.60278641e-01,\n",
       "        5.97444820e-01, 5.40590429e-01, 4.89146448e-01, 4.42598009e-01,\n",
       "        4.00479240e-01, 3.62368601e-01, 3.27884669e-01, 2.96682318e-01,\n",
       "        2.68449262e-01, 2.42902937e-01, 1.98872105e-01, 1.79946922e-01,\n",
       "        1.62822708e-01, 1.47328079e-01, 1.33307958e-01, 1.20622029e-01,\n",
       "        1.09143325e-01, 9.87569646e-02, 8.93589969e-02, 8.08553640e-02,\n",
       "        7.31609588e-02, 6.61987730e-02, 5.98991269e-02, 5.41989713e-02,\n",
       "        4.90412573e-02, 4.43743646e-02, 4.01515855e-02, 3.63306569e-02,\n",
       "        3.28733378e-02, 2.69144126e-02, 2.43531676e-02, 2.20356573e-02,\n",
       "        1.99386873e-02, 1.80412703e-02, 1.63244165e-02, 1.47709428e-02,\n",
       "        1.33653018e-02, 1.20934251e-02, 1.09425836e-02, 9.90125908e-03,\n",
       "        8.95902970e-03, 8.10646530e-03, 7.33503313e-03, 6.63701244e-03,\n",
       "        6.00541720e-03, 5.43392619e-03, 4.91681975e-03, 4.44892249e-03,\n",
       "        3.64246966e-03, 3.29584284e-03, 2.98220193e-03, 2.69840789e-03,\n",
       "        2.44162043e-03, 2.20926952e-03, 1.99902973e-03, 1.80879690e-03,\n",
       "        1.63666712e-03, 1.48091765e-03, 1.33998970e-03, 1.21247282e-03,\n",
       "        1.09709078e-03, 9.92688787e-04, 8.98221959e-04, 8.12744838e-04,\n",
       "        7.35401941e-04, 6.65419193e-04, 6.02096185e-04],\n",
       "       [1.79482343e+00, 1.98358666e+00, 2.19220229e+00, 2.42275822e+00,\n",
       "        2.67756192e+00, 2.95916357e+00, 3.27038152e+00, 3.61433054e+00,\n",
       "        3.99445300e+00, 4.41455329e+00, 4.87883592e+00, 5.39194757e+00,\n",
       "        5.95902365e+00, 6.58573963e+00, 7.27836792e+00, 8.04384055e+00,\n",
       "        8.88981865e+00, 9.82476904e+00, 1.08580490e+01, 1.08580490e+01,\n",
       "        9.82476904e+00, 8.88981865e+00, 8.04384055e+00, 7.27836792e+00,\n",
       "        6.58573963e+00, 5.95902365e+00, 5.39194757e+00, 4.87883592e+00,\n",
       "        4.41455329e+00, 3.99445300e+00, 3.61433054e+00, 3.27038152e+00,\n",
       "        2.95916357e+00, 2.67756192e+00, 2.42275822e+00, 2.19220229e+00,\n",
       "        1.98358666e+00, 1.79482343e+00, 1.46947714e+00, 1.32963790e+00,\n",
       "        1.20310612e+00, 1.08861544e+00, 9.85019983e-01, 8.91282939e-01,\n",
       "        8.06466153e-01, 7.29720752e-01, 6.60278641e-01, 5.97444820e-01,\n",
       "        5.40590429e-01, 4.89146448e-01, 4.42598009e-01, 4.00479240e-01,\n",
       "        3.62368601e-01, 3.27884669e-01, 2.96682318e-01, 2.68449262e-01,\n",
       "        2.42902937e-01, 1.98872105e-01, 1.79946922e-01, 1.62822708e-01,\n",
       "        1.47328079e-01, 1.33307958e-01, 1.20622029e-01, 1.09143325e-01,\n",
       "        9.87569646e-02, 8.93589969e-02, 8.08553640e-02, 7.31609588e-02,\n",
       "        6.61987730e-02, 5.98991269e-02, 5.41989713e-02, 4.90412573e-02,\n",
       "        4.43743646e-02, 4.01515855e-02, 3.63306569e-02, 3.28733378e-02,\n",
       "        2.69144126e-02, 2.43531676e-02, 2.20356573e-02, 1.99386873e-02,\n",
       "        1.80412703e-02, 1.63244165e-02, 1.47709428e-02, 1.33653018e-02,\n",
       "        1.20934251e-02, 1.09425836e-02, 9.90125908e-03, 8.95902970e-03,\n",
       "        8.10646530e-03, 7.33503313e-03, 6.63701244e-03, 6.00541720e-03,\n",
       "        5.43392619e-03, 4.91681975e-03, 4.44892249e-03],\n",
       "       [2.42902937e-01, 2.68449262e-01, 2.96682318e-01, 3.27884669e-01,\n",
       "        3.62368601e-01, 4.00479240e-01, 4.42598009e-01, 4.89146448e-01,\n",
       "        5.40590429e-01, 5.97444820e-01, 6.60278641e-01, 7.29720752e-01,\n",
       "        8.06466153e-01, 8.91282939e-01, 9.85019983e-01, 1.08861544e+00,\n",
       "        1.20310612e+00, 1.32963790e+00, 1.46947714e+00, 1.79482343e+00,\n",
       "        1.98358666e+00, 2.19220229e+00, 2.42275822e+00, 2.67756192e+00,\n",
       "        2.95916357e+00, 3.27038152e+00, 3.61433054e+00, 3.99445300e+00,\n",
       "        4.41455329e+00, 4.87883592e+00, 5.39194757e+00, 5.95902365e+00,\n",
       "        6.58573963e+00, 7.27836792e+00, 8.04384055e+00, 8.88981865e+00,\n",
       "        9.82476904e+00, 1.08580490e+01, 1.08580490e+01, 9.82476904e+00,\n",
       "        8.88981865e+00, 8.04384055e+00, 7.27836792e+00, 6.58573963e+00,\n",
       "        5.95902365e+00, 5.39194757e+00, 4.87883592e+00, 4.41455329e+00,\n",
       "        3.99445300e+00, 3.61433054e+00, 3.27038152e+00, 2.95916357e+00,\n",
       "        2.67756192e+00, 2.42275822e+00, 2.19220229e+00, 1.98358666e+00,\n",
       "        1.79482343e+00, 1.46947714e+00, 1.32963790e+00, 1.20310612e+00,\n",
       "        1.08861544e+00, 9.85019983e-01, 8.91282939e-01, 8.06466153e-01,\n",
       "        7.29720752e-01, 6.60278641e-01, 5.97444820e-01, 5.40590429e-01,\n",
       "        4.89146448e-01, 4.42598009e-01, 4.00479240e-01, 3.62368601e-01,\n",
       "        3.27884669e-01, 2.96682318e-01, 2.68449262e-01, 2.42902937e-01,\n",
       "        1.98872105e-01, 1.79946922e-01, 1.62822708e-01, 1.47328079e-01,\n",
       "        1.33307958e-01, 1.20622029e-01, 1.09143325e-01, 9.87569646e-02,\n",
       "        8.93589969e-02, 8.08553640e-02, 7.31609588e-02, 6.61987730e-02,\n",
       "        5.98991269e-02, 5.41989713e-02, 4.90412573e-02, 4.43743646e-02,\n",
       "        4.01515855e-02, 3.63306569e-02, 3.28733378e-02],\n",
       "       [3.28733378e-02, 3.63306569e-02, 4.01515855e-02, 4.43743646e-02,\n",
       "        4.90412573e-02, 5.41989713e-02, 5.98991269e-02, 6.61987730e-02,\n",
       "        7.31609588e-02, 8.08553640e-02, 8.93589969e-02, 9.87569646e-02,\n",
       "        1.09143325e-01, 1.20622029e-01, 1.33307958e-01, 1.47328079e-01,\n",
       "        1.62822708e-01, 1.79946922e-01, 1.98872105e-01, 2.42902937e-01,\n",
       "        2.68449262e-01, 2.96682318e-01, 3.27884669e-01, 3.62368601e-01,\n",
       "        4.00479240e-01, 4.42598009e-01, 4.89146448e-01, 5.40590429e-01,\n",
       "        5.97444820e-01, 6.60278641e-01, 7.29720752e-01, 8.06466153e-01,\n",
       "        8.91282939e-01, 9.85019983e-01, 1.08861544e+00, 1.20310612e+00,\n",
       "        1.32963790e+00, 1.46947714e+00, 1.79482343e+00, 1.98358666e+00,\n",
       "        2.19220229e+00, 2.42275822e+00, 2.67756192e+00, 2.95916357e+00,\n",
       "        3.27038152e+00, 3.61433054e+00, 3.99445300e+00, 4.41455329e+00,\n",
       "        4.87883592e+00, 5.39194757e+00, 5.95902365e+00, 6.58573963e+00,\n",
       "        7.27836792e+00, 8.04384055e+00, 8.88981865e+00, 9.82476904e+00,\n",
       "        1.08580490e+01, 1.08580490e+01, 9.82476904e+00, 8.88981865e+00,\n",
       "        8.04384055e+00, 7.27836792e+00, 6.58573963e+00, 5.95902365e+00,\n",
       "        5.39194757e+00, 4.87883592e+00, 4.41455329e+00, 3.99445300e+00,\n",
       "        3.61433054e+00, 3.27038152e+00, 2.95916357e+00, 2.67756192e+00,\n",
       "        2.42275822e+00, 2.19220229e+00, 1.98358666e+00, 1.79482343e+00,\n",
       "        1.46947714e+00, 1.32963790e+00, 1.20310612e+00, 1.08861544e+00,\n",
       "        9.85019983e-01, 8.91282939e-01, 8.06466153e-01, 7.29720752e-01,\n",
       "        6.60278641e-01, 5.97444820e-01, 5.40590429e-01, 4.89146448e-01,\n",
       "        4.42598009e-01, 4.00479240e-01, 3.62368601e-01, 3.27884669e-01,\n",
       "        2.96682318e-01, 2.68449262e-01, 2.42902937e-01],\n",
       "       [4.44892249e-03, 4.91681975e-03, 5.43392619e-03, 6.00541720e-03,\n",
       "        6.63701244e-03, 7.33503313e-03, 8.10646530e-03, 8.95902970e-03,\n",
       "        9.90125908e-03, 1.09425836e-02, 1.20934251e-02, 1.33653018e-02,\n",
       "        1.47709428e-02, 1.63244165e-02, 1.80412703e-02, 1.99386873e-02,\n",
       "        2.20356573e-02, 2.43531676e-02, 2.69144126e-02, 3.28733378e-02,\n",
       "        3.63306569e-02, 4.01515855e-02, 4.43743646e-02, 4.90412573e-02,\n",
       "        5.41989713e-02, 5.98991269e-02, 6.61987730e-02, 7.31609588e-02,\n",
       "        8.08553640e-02, 8.93589969e-02, 9.87569646e-02, 1.09143325e-01,\n",
       "        1.20622029e-01, 1.33307958e-01, 1.47328079e-01, 1.62822708e-01,\n",
       "        1.79946922e-01, 1.98872105e-01, 2.42902937e-01, 2.68449262e-01,\n",
       "        2.96682318e-01, 3.27884669e-01, 3.62368601e-01, 4.00479240e-01,\n",
       "        4.42598009e-01, 4.89146448e-01, 5.40590429e-01, 5.97444820e-01,\n",
       "        6.60278641e-01, 7.29720752e-01, 8.06466153e-01, 8.91282939e-01,\n",
       "        9.85019983e-01, 1.08861544e+00, 1.20310612e+00, 1.32963790e+00,\n",
       "        1.46947714e+00, 1.79482343e+00, 1.98358666e+00, 2.19220229e+00,\n",
       "        2.42275822e+00, 2.67756192e+00, 2.95916357e+00, 3.27038152e+00,\n",
       "        3.61433054e+00, 3.99445300e+00, 4.41455329e+00, 4.87883592e+00,\n",
       "        5.39194757e+00, 5.95902365e+00, 6.58573963e+00, 7.27836792e+00,\n",
       "        8.04384055e+00, 8.88981865e+00, 9.82476904e+00, 1.08580490e+01,\n",
       "        1.08580490e+01, 9.82476904e+00, 8.88981865e+00, 8.04384055e+00,\n",
       "        7.27836792e+00, 6.58573963e+00, 5.95902365e+00, 5.39194757e+00,\n",
       "        4.87883592e+00, 4.41455329e+00, 3.99445300e+00, 3.61433054e+00,\n",
       "        3.27038152e+00, 2.95916357e+00, 2.67756192e+00, 2.42275822e+00,\n",
       "        2.19220229e+00, 1.98358666e+00, 1.79482343e+00],\n",
       "       [6.02096185e-04, 6.65419193e-04, 7.35401941e-04, 8.12744838e-04,\n",
       "        8.98221959e-04, 9.92688787e-04, 1.09709078e-03, 1.21247282e-03,\n",
       "        1.33998970e-03, 1.48091765e-03, 1.63666712e-03, 1.80879690e-03,\n",
       "        1.99902973e-03, 2.20926952e-03, 2.44162043e-03, 2.69840789e-03,\n",
       "        2.98220193e-03, 3.29584284e-03, 3.64246966e-03, 4.44892249e-03,\n",
       "        4.91681975e-03, 5.43392619e-03, 6.00541720e-03, 6.63701244e-03,\n",
       "        7.33503313e-03, 8.10646530e-03, 8.95902970e-03, 9.90125908e-03,\n",
       "        1.09425836e-02, 1.20934251e-02, 1.33653018e-02, 1.47709428e-02,\n",
       "        1.63244165e-02, 1.80412703e-02, 1.99386873e-02, 2.20356573e-02,\n",
       "        2.43531676e-02, 2.69144126e-02, 3.28733378e-02, 3.63306569e-02,\n",
       "        4.01515855e-02, 4.43743646e-02, 4.90412573e-02, 5.41989713e-02,\n",
       "        5.98991269e-02, 6.61987730e-02, 7.31609588e-02, 8.08553640e-02,\n",
       "        8.93589969e-02, 9.87569646e-02, 1.09143325e-01, 1.20622029e-01,\n",
       "        1.33307958e-01, 1.47328079e-01, 1.62822708e-01, 1.79946922e-01,\n",
       "        1.98872105e-01, 2.42902937e-01, 2.68449262e-01, 2.96682318e-01,\n",
       "        3.27884669e-01, 3.62368601e-01, 4.00479240e-01, 4.42598009e-01,\n",
       "        4.89146448e-01, 5.40590429e-01, 5.97444820e-01, 6.60278641e-01,\n",
       "        7.29720752e-01, 8.06466153e-01, 8.91282939e-01, 9.85019983e-01,\n",
       "        1.08861544e+00, 1.20310612e+00, 1.32963790e+00, 1.46947714e+00,\n",
       "        1.79482343e+00, 1.98358666e+00, 2.19220229e+00, 2.42275822e+00,\n",
       "        2.67756192e+00, 2.95916357e+00, 3.27038152e+00, 3.61433054e+00,\n",
       "        3.99445300e+00, 4.41455329e+00, 4.87883592e+00, 5.39194757e+00,\n",
       "        5.95902365e+00, 6.58573963e+00, 7.27836792e+00, 8.04384055e+00,\n",
       "        8.88981865e+00, 9.82476904e+00, 1.08580490e+01]])"
      ]
     },
     "execution_count": 10,
     "metadata": {},
     "output_type": "execute_result"
    }
   ],
   "source": [
    "#matrice de distance\n",
    "D_oi = np.zeros((nb_obs,N-nb_obs))\n",
    "unknown = np.array(unknown_indexes)*Delta\n",
    "for i,x in enumerate(observation):\n",
    "    for j,y in enumerate(unknown):\n",
    "        D_oi[i,j] = abs(x-y)\n",
    "\n",
    "#covariance\n",
    "Cov_Zoi = cov(D_oi)\n",
    "Cov_Zoi"
   ]
  },
  {
   "cell_type": "markdown",
   "metadata": {},
   "source": [
    "Entre les inconnues"
   ]
  },
  {
   "cell_type": "code",
   "execution_count": 11,
   "metadata": {},
   "outputs": [
    {
     "data": {
      "text/plain": [
       "array([[1.20000000e+01, 1.08580490e+01, 9.82476904e+00, ...,\n",
       "        8.12744838e-04, 7.35401941e-04, 6.65419193e-04],\n",
       "       [1.08580490e+01, 1.20000000e+01, 1.08580490e+01, ...,\n",
       "        8.98221959e-04, 8.12744838e-04, 7.35401941e-04],\n",
       "       [9.82476904e+00, 1.08580490e+01, 1.20000000e+01, ...,\n",
       "        9.92688787e-04, 8.98221959e-04, 8.12744838e-04],\n",
       "       ...,\n",
       "       [8.12744838e-04, 8.98221959e-04, 9.92688787e-04, ...,\n",
       "        1.20000000e+01, 1.08580490e+01, 9.82476904e+00],\n",
       "       [7.35401941e-04, 8.12744838e-04, 8.98221959e-04, ...,\n",
       "        1.08580490e+01, 1.20000000e+01, 1.08580490e+01],\n",
       "       [6.65419193e-04, 7.35401941e-04, 8.12744838e-04, ...,\n",
       "        9.82476904e+00, 1.08580490e+01, 1.20000000e+01]])"
      ]
     },
     "execution_count": 11,
     "metadata": {},
     "output_type": "execute_result"
    }
   ],
   "source": [
    "#matrice de distance\n",
    "nb_inc = N-nb_obs\n",
    "D_inc = np.zeros((nb_inc,nb_inc))\n",
    "\n",
    "for i,x in enumerate(unknown):\n",
    "    for j,y in enumerate(unknown):\n",
    "        D_inc[i,j] = abs(x-y)\n",
    "\n",
    "#covariance\n",
    "Cov_Zinc = cov(D_inc)\n",
    "Cov_Zinc"
   ]
  },
  {
   "cell_type": "markdown",
   "metadata": {},
   "source": [
    "#### 5. Espérance conditionnelle"
   ]
  },
  {
   "cell_type": "markdown",
   "metadata": {},
   "source": [
    "On calcule $\\: E[Y|Z=z] = \\psi(z) =m_Z + C_{Z,Z'}C_{Z'}^{-1}(z-m_{Z'})$, avec $z = depth$"
   ]
  },
  {
   "cell_type": "code",
   "execution_count": 12,
   "metadata": {},
   "outputs": [
    {
     "data": {
      "image/png": "[encoded data removed]",
      "text/plain": [
       "<Figure size 432x288 with 1 Axes>"
      ]
     },
     "metadata": {
      "needs_background": "light"
     },
     "output_type": "display_data"
    }
   ],
   "source": [
    "#calcul\n",
    "m_Zinc = np.ones((nb_inc,1))*mu\n",
    "m_Zobs = np.ones((nb_obs,1))*mu\n",
    "Cov_Zio = np.transpose(Cov_Zoi)\n",
    "Cov_Zobs_inv = np.linalg.inv(Cov_Zobs)\n",
    "E_cond = m_Zinc + np.dot(np.dot(Cov_Zio,Cov_Zobs_inv), depth.reshape(depth.size,1)-m_Zobs)\n",
    "\n",
    "#affichage\n",
    "plt.plot(unknown,E_cond, label='espérance conditionnelle')\n",
    "plt.plot(observation,depth,'.',label='données')\n",
    "plt.xlabel('position')\n",
    "plt.ylabel('profondeur')\n",
    "plt.legend(loc='lower right')\n",
    "plt.show()"
   ]
  },
  {
   "cell_type": "markdown",
   "metadata": {},
   "source": [
    "#### 6. Matrice de covariance conditionnelle"
   ]
  },
  {
   "cell_type": "markdown",
   "metadata": {},
   "source": [
    "On calcule $\\: CS_Z = \\Sigma - C_{Z,Z'}C_{Z'}^{-1}C_{Z',Z} \\:$"
   ]
  },
  {
   "cell_type": "code",
   "execution_count": 13,
   "metadata": {},
   "outputs": [
    {
     "data": {
      "image/png": "[encoded data removed]",
      "text/plain": [
       "<Figure size 432x288 with 1 Axes>"
      ]
     },
     "metadata": {
      "needs_background": "light"
     },
     "output_type": "display_data"
    }
   ],
   "source": [
    "#Calcul\n",
    "Cov_cond = Cov_Zinc - np.dot(np.dot(Cov_Zio,Cov_Zobs_inv),Cov_Zoi)\n",
    "\n",
    "#affichage\n",
    "diag = np.array([Cov_cond[i,i] for i in range(nb_inc)])\n",
    "\n",
    "plt.plot(unknown,diag)\n",
    "plt.xlabel('position')\n",
    "plt.ylabel('variance')\n",
    "plt.show()"
   ]
  },
  {
   "cell_type": "markdown",
   "metadata": {},
   "source": [
    "Plus on est loin des points d'observation et plus la variance est grande, car plus l'incertitude sur la profondeur est grande."
   ]
  },
  {
   "cell_type": "markdown",
   "metadata": {},
   "source": [
    "#### 7. Simulation conditionnelle"
   ]
  },
  {
   "cell_type": "code",
   "execution_count": 14,
   "metadata": {},
   "outputs": [
    {
     "data": {
      "image/png": "[encoded data removed]",
      "text/plain": [
       "<Figure size 432x288 with 1 Axes>"
      ]
     },
     "metadata": {
      "needs_background": "light"
     },
     "output_type": "display_data"
    }
   ],
   "source": [
    "#Décomposition de Cholesky\n",
    "R = np.linalg.cholesky(Cov_cond)\n",
    "\n",
    "#Vecteur gaussien centré réduit\n",
    "Y = np.zeros((nb_inc,1))\n",
    "for i in range(nb_inc):\n",
    "    Y[i] = np.sqrt(-2*np.log(rd.random()))*np.cos(2*np.pi*rd.random())  #simulation d'une gaussienne\n",
    "\n",
    "#Simulation conditionnelle\n",
    "Z_cond = E_cond + np.dot(R,Y)\n",
    "\n",
    "plt.plot(unknown, E_cond, label='espérance conditionnelle')\n",
    "plt.plot(observation,depth,'.',label='données')\n",
    "plt.plot(unknown, Z_cond, label='simulation conditionnelle')\n",
    "plt.xlabel('position')\n",
    "plt.ylabel('profondeur')\n",
    "plt.legend(loc='lower right')\n",
    "plt.show()"
   ]
  },
  {
   "cell_type": "markdown",
   "metadata": {},
   "source": [
    "La simulation correspond est assez proche de l'espérance et des données mais s'en écarte parfois."
   ]
  },
  {
   "cell_type": "markdown",
   "metadata": {},
   "source": [
    "#### 8. Fonction longueur"
   ]
  },
  {
   "cell_type": "code",
   "execution_count": 15,
   "metadata": {},
   "outputs": [],
   "source": [
    "def longueur(Z,Delta):\n",
    "    \"\"\"retourne la longueur de câble nécessaire\"\"\"\n",
    "    L = 0\n",
    "    for i in range(1,len(Z)):\n",
    "        L += np.sqrt(Delta**2 + (Z[i] - Z[i-1])**2)\n",
    "    return L"
   ]
  },
  {
   "cell_type": "markdown",
   "metadata": {},
   "source": [
    "#### 9. Comparaison espérance estimée de la longueur et longueur de l'espérance"
   ]
  },
  {
   "cell_type": "code",
   "execution_count": 16,
   "metadata": {},
   "outputs": [],
   "source": [
    "def simulation_cond():\n",
    "    \"\"\"Renvoie le vecteur des profondeurs sur une smulation conditionnelle\"\"\"\n",
    "    #Vecteur gaussien centré réduit\n",
    "    Y = np.zeros((nb_inc,1))\n",
    "    for i in range(nb_inc):\n",
    "        Y[i] = np.sqrt(-2*np.log(rd.random()))*np.cos(2*np.pi*rd.random())  #simulation d'une gaussienne\n",
    "    #Simulation conditionnelle\n",
    "    return E_cond + np.dot(R,Y)"
   ]
  },
  {
   "cell_type": "code",
   "execution_count": 17,
   "metadata": {},
   "outputs": [
    {
     "name": "stdout",
     "output_type": "stream",
     "text": [
      "[491.52615129]\n",
      "[471.390924]\n"
     ]
    }
   ],
   "source": [
    "#espérance de la longueur sur 100 simulations\n",
    "Esp_L = 0\n",
    "for i in range(100):\n",
    "    Esp_L += longueur(simulation_cond(),Delta)\n",
    "Esp_L = Esp_L/100\n",
    "print(Esp_L)\n",
    "\n",
    "#longueur de l'espérance conditionnelle\n",
    "L_Esp = longueur(E_cond,Delta)\n",
    "print(L_Esp)"
   ]
  },
  {
   "cell_type": "markdown",
   "metadata": {},
   "source": [
    "Sur plusieurs essais de 100 simulations, la moyenne de la longueur se situe entre 491 et 492 alors que la longueur de l'espérance est de 471. On observe un écart quasi constant de 20."
   ]
  },
  {
   "cell_type": "markdown",
   "metadata": {},
   "source": [
    "#### 10. Moyenne des longueurs de câbles"
   ]
  },
  {
   "cell_type": "code",
   "execution_count": 20,
   "metadata": {},
   "outputs": [
    {
     "data": {
      "image/png": "[encoded data removed]",
      "text/plain": [
       "<Figure size 432x288 with 1 Axes>"
      ]
     },
     "metadata": {
      "needs_background": "light"
     },
     "output_type": "display_data"
    }
   ],
   "source": [
    "N = []  # Vecteur du nombre de simulations\n",
    "L = []  # Vecteur avec les longueurs correspondantes\n",
    "\n",
    "for i in range(100, 10000, 100) :\n",
    "    Esp_L = 0\n",
    "    for j in range(i) :\n",
    "        Esp_L += longueur(simulation_cond(), Delta)\n",
    "    Esp_L = Esp_L/i\n",
    "    \n",
    "    N.append(i)\n",
    "    L.append(Esp_L)\n",
    "    \n",
    "plt.plot(N,L,'.')\n",
    "plt.title('Longueur estimée en fonction du nombre de simulations')\n",
    "plt.xlabel('Nombre de simulations')\n",
    "plt.ylabel('Longueur estimée (m)')\n",
    "plt.show()\n",
    "    \n",
    "    "
   ]
  },
  {
   "cell_type": "markdown",
   "metadata": {},
   "source": [
    "On remarque qu'en augmentant le nombre de simulations, la longueur moyenne semble converger vers une valauer précise. L'écart-type diminue lorsque le nombre de simulation augmente."
   ]
  },
  {
   "cell_type": "markdown",
   "metadata": {},
   "source": [
    "#### 11. Histogramme des longueurs générées (100 simulations)"
   ]
  },
  {
   "cell_type": "code",
   "execution_count": 32,
   "metadata": {},
   "outputs": [
    {
     "data": {
      "image/png": "[encoded data removed]",
      "text/plain": [
       "<Figure size 432x288 with 1 Axes>"
      ]
     },
     "metadata": {
      "needs_background": "light"
     },
     "output_type": "display_data"
    }
   ],
   "source": [
    "L = []\n",
    "\n",
    "for i in range(100) :\n",
    "    l = longueur(simulation_cond(), Delta)\n",
    "    L.append(l)\n",
    "\n",
    "data = np.array(L)\n",
    "    \n",
    "plt.hist(data, bins=100, color='blue')\n",
    "plt.title('Longueurs générées (100 simulations)')\n",
    "plt.xlabel('Longueur (m)')\n",
    "plt.show()\n",
    "    "
   ]
  },
  {
   "cell_type": "markdown",
   "metadata": {},
   "source": [
    "#### 12. Intervalle de confiance à 95%"
   ]
  },
  {
   "cell_type": "markdown",
   "metadata": {},
   "source": [
    "#### 13. Probabilité que la longueur de câble dépasse 525m"
   ]
  },
  {
   "cell_type": "markdown",
   "metadata": {},
   "source": [
    "Pour avoir une estimation de la probabilité, on peut simplement faire :\n",
    "$$ P(L > 525m) = \\frac{nombre \\, de \\, longueurs \\, > 525m}{nombre \\, de \\, simulations} $$"
   ]
  },
  {
   "cell_type": "code",
   "execution_count": 33,
   "metadata": {},
   "outputs": [
    {
     "name": "stdout",
     "output_type": "stream",
     "text": [
      "Une estimation de la probabilité que la longueur dépasse 525m est P = 0.0\n"
     ]
    }
   ],
   "source": [
    "n = 0\n",
    "for x in L :\n",
    "    if x > 525 :\n",
    "        n += 1\n",
    "\n",
    "P = n/100\n",
    "\n",
    "print('Une estimation de la probabilité que la longueur dépasse 525m est P =',P)"
   ]
  },
  {
   "cell_type": "markdown",
   "metadata": {},
   "source": [
    "#### 14. 1000 simulations"
   ]
  },
  {
   "cell_type": "code",
   "execution_count": 34,
   "metadata": {},
   "outputs": [
    {
     "data": {
      "image/png": "[encoded data removed]",
      "text/plain": [
       "<Figure size 432x288 with 1 Axes>"
      ]
     },
     "metadata": {
      "needs_background": "light"
     },
     "output_type": "display_data"
    },
    {
     "name": "stdout",
     "output_type": "stream",
     "text": [
      "Une estimation de la probabilité que la longueur dépasse 525m est P = 0.0\n"
     ]
    }
   ],
   "source": [
    "# Histogramme\n",
    "L = []\n",
    "\n",
    "for i in range(1000) :\n",
    "    l = longueur(simulation_cond(), Delta)\n",
    "    L.append(l)\n",
    "\n",
    "data = np.array(L)\n",
    "    \n",
    "plt.hist(data, bins=100, color='blue')\n",
    "plt.title('Longueurs générées (1000 simulations)')\n",
    "plt.xlabel('Longueur (m)')\n",
    "plt.show()\n",
    "\n",
    "# Intervalle de confiance\n",
    "\n",
    "# Probabilité que L > 525m\n",
    "n = 0\n",
    "for x in L :\n",
    "    if x > 525 :\n",
    "        n += 1\n",
    "\n",
    "P = n/1000\n",
    "\n",
    "print('Une estimation de la probabilité que la longueur dépasse 525m est P =',P)"
   ]
  },
  {
   "cell_type": "markdown",
   "metadata": {},
   "source": [
    "#### 14. 10000 simulations"
   ]
  },
  {
   "cell_type": "code",
   "execution_count": 36,
   "metadata": {},
   "outputs": [
    {
     "data": {
      "image/png": "[encoded data removed]",
      "text/plain": [
       "<Figure size 432x288 with 1 Axes>"
      ]
     },
     "metadata": {
      "needs_background": "light"
     },
     "output_type": "display_data"
    },
    {
     "name": "stdout",
     "output_type": "stream",
     "text": [
      "Une estimation de la probabilité que la longueur dépasse 525m est P = 0.0\n"
     ]
    }
   ],
   "source": [
    "for i in range(10000) :\n",
    "    l = longueur(simulation_cond(), Delta)\n",
    "    L.append(l)\n",
    "\n",
    "data = np.array(L)\n",
    "    \n",
    "plt.hist(data, bins=100, color='blue')\n",
    "plt.title('Longueurs générées (10000 simulations)')\n",
    "plt.xlabel('Longueur (m)')\n",
    "plt.show()\n",
    "\n",
    "# Intervalle de confiance\n",
    "\n",
    "# Probabilité que L > 525m\n",
    "n = 0\n",
    "for x in L :\n",
    "    if x > 525 :\n",
    "        n += 1\n",
    "\n",
    "P = n/10000\n",
    "\n",
    "print('Une estimation de la probabilité que la longueur dépasse 525m est P =',P)"
   ]
  },
  {
   "cell_type": "markdown",
   "metadata": {},
   "source": [
    "#### 14. 100000 simulations"
   ]
  },
  {
   "cell_type": "code",
   "execution_count": 37,
   "metadata": {},
   "outputs": [
    {
     "data": {
      "image/png": "[encoded data removed]",
      "text/plain": [
       "<Figure size 432x288 with 1 Axes>"
      ]
     },
     "metadata": {
      "needs_background": "light"
     },
     "output_type": "display_data"
    },
    {
     "name": "stdout",
     "output_type": "stream",
     "text": [
      "Une estimation de la probabilité que la longueur dépasse 525m est P = 0.0\n"
     ]
    }
   ],
   "source": [
    "for i in range(100000) :\n",
    "    l = longueur(simulation_cond(), Delta)\n",
    "    L.append(l)\n",
    "\n",
    "data = np.array(L)\n",
    "    \n",
    "plt.hist(data, bins=100, color='blue')\n",
    "plt.title('Longueurs générées (100000 simulations)')\n",
    "plt.xlabel('Longueur (m)')\n",
    "plt.show()\n",
    "\n",
    "# Intervalle de confiance\n",
    "\n",
    "# Probabilité que L > 525m\n",
    "n = 0\n",
    "for x in L :\n",
    "    if x > 525 :\n",
    "        n += 1\n",
    "\n",
    "P = n/100000\n",
    "\n",
    "print('Une estimation de la probabilité que la longueur dépasse 525m est P =',P)"
   ]
  },
  {
   "cell_type": "code",
   "execution_count": null,
   "metadata": {},
   "outputs": [],
   "source": []
  }
 ],
 "metadata": {
  "kernelspec": {
   "display_name": "Python 3",
   "language": "python",
   "name": "python3"
  },
  "language_info": {
   "codemirror_mode": {
    "name": "ipython",
    "version": 3
   },
   "file_extension": ".py",
   "mimetype": "text/x-python",
   "name": "python",
   "nbconvert_exporter": "python",
   "pygments_lexer": "ipython3",
   "version": "3.7.4"
  }
 },
 "nbformat": 4,
 "nbformat_minor": 2
}
