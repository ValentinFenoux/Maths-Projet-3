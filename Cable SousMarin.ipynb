{
 "cells": [
  {
   "cell_type": "markdown",
   "metadata": {},
   "source": [
    "# Projet numérique : Câble sous-marin"
   ]
  },
  {
   "cell_type": "markdown",
   "metadata": {},
   "source": [
    "*Auteurs : Valentin Fenoux et Mathis Boutrouelle*"
   ]
  },
  {
   "cell_type": "markdown",
   "metadata": {},
   "source": [
    "## Questions théoriques"
   ]
  },
  {
   "cell_type": "markdown",
   "metadata": {},
   "source": [
    "1. On se sert de la méthode de Monte-Carlo pour approximer la valeur de l'espérance conditionnelle. On suppose que les simulations sont une suite de variables aléatoires indépendantes $(X_n)_{n \\in \\mathbb{N}^*}$ de même loi et intégrable. Alors : $M_n= \\frac{X_1+...+X_n}{n}$ converge presque sûrement vers $E^*$ d'après la loi des grands nombres."
   ]
  },
  {
   "cell_type": "markdown",
   "metadata": {},
   "source": [
    "2. On pose le vecteur $\\bar{Z} = (Z,Z') = (Z(x_0),...,Z(x_N),Z(x_{j_1}),...,Z(x_{j_n}))$ qui est un vecteur aléatoire gaussien de moyenne $m = (µ,...,µ)$ et de matrice de covariance $\\Sigma$ définie positive. Alors d'après le cours Probabilités IV, la densité conditionnelle de Z sachant les profondeurs aux points d'observation est : \n",
    "$$f_{Z|Z(x_{j_1})=z(x_{j_1}),...,Z(x_{j_n})=z(x_{j_n})}(y) = \\frac{1}{(2\\pi)^{\\frac{N+1}{2}}\\sqrt{\\det (C S_Z)}}\\exp \\left(-\\frac{1}{2}\\left(y - µ)\\right)^t C S_Z^{-1}\\left(y - µ)\\right)\\right)$$\n",
    "D'où la loi conditionnelle. Avec $C = \\begin{pmatrix} \\Sigma & C_{Z,Z'} \\\\ C_{Z',Z} & C_{Z'} \\end{pmatrix} \\:$  et  $\\: CS_Z = \\Sigma - C_{Z,Z'}C_{Z'}^{-1}C_{Z',Z}$"
   ]
  },
  {
   "cell_type": "markdown",
   "metadata": {},
   "source": [
    "3. Comme $Y$ est gausssien, on a (p.11 poly Proba V) $Z$ qui est gaussien d'espérance $m$ et de matrice de covariance $C$. De plus comme les $Y_i$ sont des variables aléatoires gaussiennes centrées, réduites et indépendantes, $C = RR^t$"
   ]
  },
  {
   "cell_type": "markdown",
   "metadata": {},
   "source": [
    "4. - Soient $(U_k,V_k)_{0\\leqslant k\\leqslant N} \\;$ $2(N+1)$ variables aléatoires uniformes indépendantes dans $]0,1[$, simulées avec le module random de python.\n",
    "   - Alors les $Y_k = \\sqrt{-2ln(U_k)}cos(2\\pi V_k)$ sont des variables aléatoires gaussiennes centrées réduites.\n",
    "   - On a alors $Z = µ + RY$, avec R décomposition de Cholesky de $CS_Z$ pouvant être obtenue grâce à un algorithme, et $CS_Z$ grâce à la fonction décroissante C."
   ]
  },
  {
   "cell_type": "markdown",
   "metadata": {},
   "source": [
    "## Implémentation"
   ]
  },
  {
   "cell_type": "markdown",
   "metadata": {},
   "source": [
    "### Préambule"
   ]
  },
  {
   "cell_type": "code",
   "execution_count": 2,
   "metadata": {},
   "outputs": [],
   "source": [
    "# Chargement de dépendance\n",
    "\n",
    "import numpy as np\n",
    "import math\n",
    "import matplotlib.pyplot as plt"
   ]
  },
  {
   "cell_type": "code",
   "execution_count": 3,
   "metadata": {},
   "outputs": [],
   "source": [
    "# Discrétisation\n",
    "\n",
    "A = 0\n",
    "B = 500\n",
    "N = 101\n",
    "Delta = (B - A)/(N - 1)\n",
    "discretization_indexes = np.arange(N)\n",
    "discretization = discretization_indexes*Delta"
   ]
  },
  {
   "cell_type": "code",
   "execution_count": 4,
   "metadata": {},
   "outputs": [],
   "source": [
    "# Paramètres du modèle\n",
    "\n",
    "mu = -5\n",
    "a = 50\n",
    "sigma2 = 12"
   ]
  },
  {
   "cell_type": "code",
   "execution_count": 5,
   "metadata": {},
   "outputs": [],
   "source": [
    "# Données\n",
    "\n",
    "observation_indexes = [0, 20, 40, 60, 80, 100]\n",
    "depth = np.array([0, -4, -12.8, -1, -6.5, 0])"
   ]
  },
  {
   "cell_type": "code",
   "execution_count": 10,
   "metadata": {},
   "outputs": [
    {
     "name": "stdout",
     "output_type": "stream",
     "text": [
      "[1, 2, 3, 4, 5, 6, 7, 8, 9, 10, 11, 12, 13, 14, 15, 16, 17, 18, 19, 21, 22, 23, 24, 25, 26, 27, 28, 29, 30, 31, 32, 33, 34, 35, 36, 37, 38, 39, 41, 42, 43, 44, 45, 46, 47, 48, 49, 50, 51, 52, 53, 54, 55, 56, 57, 58, 59, 61, 62, 63, 64, 65, 66, 67, 68, 69, 70, 71, 72, 73, 74, 75, 76, 77, 78, 79, 81, 82, 83, 84, 85, 86, 87, 88, 89, 90, 91, 92, 93, 94, 95, 96, 97, 98, 99]\n"
     ]
    }
   ],
   "source": [
    "# Indices des composantes correspondant aux observations et aux composantes non observées\n",
    "\n",
    "unknown_indexes = list(set(discretization_indexes)-set(observation_indexes))"
   ]
  },
  {
   "cell_type": "markdown",
   "metadata": {},
   "source": [
    "### Questions"
   ]
  },
  {
   "cell_type": "markdown",
   "metadata": {},
   "source": [
    "#### 1."
   ]
  },
  {
   "cell_type": "code",
   "execution_count": 7,
   "metadata": {},
   "outputs": [],
   "source": [
    "def cov(H) :\n",
    "    n = len(H[0])\n",
    "    C = np.zeros([n,n])\n",
    "    for i in range(n) :\n",
    "        for j in range(n) :\n",
    "            C[i,j] = sigma2*np.exp(-H[i,j]/a)\n",
    "            \n",
    "    return C"
   ]
  },
  {
   "cell_type": "markdown",
   "metadata": {},
   "source": [
    "#### 2. Matrice de distance"
   ]
  },
  {
   "cell_type": "code",
   "execution_count": 8,
   "metadata": {},
   "outputs": [],
   "source": [
    "# Matrice de distance vide\n",
    "D = np.zeros([N,N])\n",
    "# Ajout des longueurs\n",
    "for i,x in enumerate(discretization) :\n",
    "    for j,y in enumerate(discretization) :\n",
    "        D[i,j] = abs(x - y)   "
   ]
  },
  {
   "cell_type": "markdown",
   "metadata": {},
   "source": [
    "#### 3. Matrice de covariance"
   ]
  },
  {
   "cell_type": "code",
   "execution_count": 9,
   "metadata": {},
   "outputs": [],
   "source": [
    "Cov_Z = cov(D)"
   ]
  },
  {
   "cell_type": "code",
   "execution_count": null,
   "metadata": {},
   "outputs": [],
   "source": []
  }
 ],
 "metadata": {
  "kernelspec": {
   "display_name": "Python 3",
   "language": "python",
   "name": "python3"
  },
  "language_info": {
   "codemirror_mode": {
    "name": "ipython",
    "version": 3
   },
   "file_extension": ".py",
   "mimetype": "text/x-python",
   "name": "python",
   "nbconvert_exporter": "python",
   "pygments_lexer": "ipython3",
   "version": "3.7.4"
  }
 },
 "nbformat": 4,
 "nbformat_minor": 2
}
